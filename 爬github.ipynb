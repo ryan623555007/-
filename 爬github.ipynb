{
 "cells": [
  {
   "cell_type": "code",
   "execution_count": 1,
   "metadata": {
    "collapsed": true
   },
   "outputs": [],
   "source": [
    "import requests\n",
    "import webbrowser\n",
    "import time\n"
   ]
  },
  {
   "cell_type": "code",
   "execution_count": null,
   "metadata": {},
   "outputs": [],
   "source": [
    "api = \"https://api.github.com/users/ryan623555007/starred\"\n",
    "\n",
    "info = requests.get(api).json()\n",
    "starred = []\n"
   ]
  },
  {
   "cell_type": "code",
   "execution_count": null,
   "metadata": {},
   "outputs": [],
   "source": [
    "for i in info:\n",
    "    starred.append(i['id'])\n",
    "\n",
    "while True:\n",
    "    # 获取star的项目\n",
    "    info = requests.get(api).json()\n",
    "    for i in info:\n",
    "        # 如果当前项目id在list变量中不存在，则说明是刚刚star的项目\n",
    "        if not i['id'] in starred:\n",
    "            starred.append(i['id'])\n",
    "            # 获取项目名称\n",
    "            repo_name = i['name']\n",
    "            # 获取作者名称\n",
    "            owner = i['owner']['login']\n",
    "            # 在浏览器中打开项目\n",
    "            web_page = \"https://github.com/\" + owner + \"/\" + repo_name\n",
    "            webbrowser.open(web_page)\n",
    "    # 每隔600秒（10分钟）检查一次\n",
    "    time.sleep(600)\n"
   ]
  },
  {
   "cell_type": "code",
   "execution_count": null,
   "metadata": {
    "collapsed": true
   },
   "outputs": [],
   "source": []
  }
 ],
 "metadata": {
  "kernelspec": {
   "display_name": "Python 3",
   "language": "python",
   "name": "python3"
  },
  "language_info": {
   "codemirror_mode": {
    "name": "ipython",
    "version": 3
   },
   "file_extension": ".py",
   "mimetype": "text/x-python",
   "name": "python",
   "nbconvert_exporter": "python",
   "pygments_lexer": "ipython3",
   "version": "3.6.3"
  }
 },
 "nbformat": 4,
 "nbformat_minor": 2
}
