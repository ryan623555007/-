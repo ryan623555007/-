{
 "cells": [
  {
   "cell_type": "code",
   "execution_count": 1,
   "metadata": {
    "collapsed": true
   },
   "outputs": [],
   "source": [
    "from bs4 import BeautifulSoup\n",
    "from urllib.request import urlopen\n",
    "import re\n",
    "import random"
   ]
  },
  {
   "cell_type": "code",
   "execution_count": 2,
   "metadata": {
    "collapsed": true
   },
   "outputs": [],
   "source": [
    "base_url = \"https://baike.baidu.com\"\n",
    "his = [\"/item/%E7%BD%91%E7%BB%9C%E7%88%AC%E8%99%AB/5162711\"]"
   ]
  },
  {
   "cell_type": "code",
   "execution_count": 3,
   "metadata": {
    "collapsed": true
   },
   "outputs": [],
   "source": [
    "url = base_url + his[-1]"
   ]
  },
  {
   "cell_type": "code",
   "execution_count": 4,
   "metadata": {},
   "outputs": [
    {
     "name": "stdout",
     "output_type": "stream",
     "text": [
      "网络爬虫     url:  /item/%E7%BD%91%E7%BB%9C%E7%88%AC%E8%99%AB/5162711\n"
     ]
    }
   ],
   "source": [
    "html = urlopen(url).read().decode('utf-8')\n",
    "soup = BeautifulSoup(html, features='lxml')\n",
    "print(soup.find('h1').get_text(), '    url: ', his[-1])\n",
    "\n",
    "# 网络爬虫     url:  /item/%E7%BD%91%E7%BB%9C%E7%88%AC%E8%99%AB/5162711\n"
   ]
  },
  {
   "cell_type": "code",
   "execution_count": 5,
   "metadata": {},
   "outputs": [
    {
     "name": "stdout",
     "output_type": "stream",
     "text": [
      "['/item/%E7%BD%91%E7%BB%9C%E7%88%AC%E8%99%AB/5162711', '/item/%E9%80%9A%E7%94%A8%E6%90%9C%E7%B4%A2%E5%BC%95%E6%93%8E']\n"
     ]
    }
   ],
   "source": [
    "sub_urls = soup.find_all(\"a\", {\"target\": \"_blank\", \"href\": re.compile(\"/item/(%.{2})+$\")})\n",
    "\n",
    "if len(sub_urls) != 0:\n",
    "    his.append(random.sample(sub_urls, 1)[0]['href'])\n",
    "else:\n",
    "    # no valid sub link found\n",
    "    his.pop()\n",
    "print(his)\n",
    "\n",
    "# ['/item/%E7%BD%91%E7%BB%9C%E7%88%AC%E8%99%AB/5162711', '/item/%E4%B8%8B%E8%BD%BD%E8%80%85']"
   ]
  },
  {
   "cell_type": "code",
   "execution_count": 6,
   "metadata": {},
   "outputs": [
    {
     "name": "stdout",
     "output_type": "stream",
     "text": [
      "0 网络爬虫     url:  /item/%E7%BD%91%E7%BB%9C%E7%88%AC%E8%99%AB/5162711\n",
      "1 超文本     url:  /item/%E8%B6%85%E6%96%87%E6%9C%AC\n",
      "2 文本     url:  /item/%E6%96%87%E6%9C%AC\n",
      "3 说文解字     url:  /item/%E8%AF%B4%E6%96%87%E8%A7%A3%E5%AD%97\n",
      "4 说文通训定声     url:  /item/%E8%AF%B4%E6%96%87%E9%80%9A%E8%AE%AD%E5%AE%9A%E5%A3%B0\n",
      "5 朱骏声     url:  /item/%E6%9C%B1%E9%AA%8F%E5%A3%B0\n",
      "6 说文通训定声     url:  /item/%E8%AF%B4%E6%96%87%E9%80%9A%E8%AE%AD%E5%AE%9A%E5%A3%B0\n",
      "7 朱骏声     url:  /item/%E6%9C%B1%E9%AA%8F%E5%A3%B0\n",
      "8 说文通训定声     url:  /item/%E8%AF%B4%E6%96%87%E9%80%9A%E8%AE%AD%E5%AE%9A%E5%A3%B0\n",
      "9 朱骏声     url:  /item/%E6%9C%B1%E9%AA%8F%E5%A3%B0\n",
      "10 说文通训定声     url:  /item/%E8%AF%B4%E6%96%87%E9%80%9A%E8%AE%AD%E5%AE%9A%E5%A3%B0\n",
      "11 朱骏声     url:  /item/%E6%9C%B1%E9%AA%8F%E5%A3%B0\n",
      "12 说文解字     url:  /item/%E8%AF%B4%E6%96%87%E8%A7%A3%E5%AD%97\n",
      "13 说文解字五音韵谱     url:  /item/%E8%AF%B4%E6%96%87%E8%A7%A3%E5%AD%97%E4%BA%94%E9%9F%B3%E9%9F%B5%E8%B0%B1\n",
      "14 徐铉     url:  /item/%E5%BE%90%E9%93%89\n",
      "15 山路花     url:  /item/%E5%B1%B1%E8%B7%AF%E8%8A%B1\n",
      "16 行军司马     url:  /item/%E8%A1%8C%E5%86%9B%E5%8F%B8%E9%A9%AC\n",
      "17 节度使     url:  /item/%E8%8A%82%E5%BA%A6%E4%BD%BF\n",
      "18 长官     url:  /item/%E9%95%BF%E5%AE%98\n",
      "19 中书科中书     url:  /item/%E4%B8%AD%E4%B9%A6%E7%A7%91%E4%B8%AD%E4%B9%A6\n"
     ]
    }
   ],
   "source": [
    "his = [\"/item/%E7%BD%91%E7%BB%9C%E7%88%AC%E8%99%AB/5162711\"]\n",
    "for i in range(20):\n",
    "    url = base_url + his[-1]\n",
    "\n",
    "    html = urlopen(url).read().decode('utf-8')\n",
    "    soup = BeautifulSoup(html, features='lxml')\n",
    "    print(i, soup.find('h1').get_text(), '    url: ', his[-1])\n",
    "\n",
    "    # find valid urls\n",
    "    sub_urls = soup.find_all(\"a\", {\"target\": \"_blank\", \"href\": re.compile(\"/item/(%.{2})+$\")})\n",
    "\n",
    "    if len(sub_urls) != 0:\n",
    "        his.append(random.sample(sub_urls, 1)[0]['href'])\n",
    "    else:\n",
    "        # no valid sub link found\n",
    "        his.pop()\n"
   ]
  },
  {
   "cell_type": "code",
   "execution_count": null,
   "metadata": {
    "collapsed": true
   },
   "outputs": [],
   "source": []
  }
 ],
 "metadata": {
  "kernelspec": {
   "display_name": "Python 3",
   "language": "python",
   "name": "python3"
  },
  "language_info": {
   "codemirror_mode": {
    "name": "ipython",
    "version": 3
   },
   "file_extension": ".py",
   "mimetype": "text/x-python",
   "name": "python",
   "nbconvert_exporter": "python",
   "pygments_lexer": "ipython3",
   "version": "3.6.3"
  }
 },
 "nbformat": 4,
 "nbformat_minor": 2
}
